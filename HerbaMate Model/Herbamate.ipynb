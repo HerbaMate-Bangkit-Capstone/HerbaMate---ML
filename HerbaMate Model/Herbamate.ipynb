{
  "nbformat": 4,
  "nbformat_minor": 0,
  "metadata": {
    "colab": {
      "provenance": [],
      "gpuType": "T4"
    },
    "kernelspec": {
      "name": "python3",
      "display_name": "Python 3"
    },
    "language_info": {
      "name": "python"
    },
    "accelerator": "GPU"
  },
  "cells": [
    {
      "cell_type": "markdown",
      "source": [
        "# Impor Library\n"
      ],
      "metadata": {
        "id": "HPKhz_R-4fgj"
      }
    },
    {
      "cell_type": "code",
      "execution_count": 10,
      "metadata": {
        "id": "O-c8sRJE15SS"
      },
      "outputs": [],
      "source": [
        "# Impor Library yang Diperlukan\n",
        "import pandas as pd\n",
        "import numpy as np\n",
        "import tensorflow as tf\n",
        "from sklearn.model_selection import train_test_split\n",
        "from sklearn.preprocessing import MultiLabelBinarizer, StandardScaler\n",
        "from tensorflow.keras.models import Sequential\n",
        "from tensorflow.keras.layers import Dense, Input\n",
        "from tensorflow.keras.optimizers import Adam\n",
        "import matplotlib.pyplot as plt\n",
        "from sklearn.metrics import r2_score, mean_squared_error\n",
        "import math"
      ]
    },
    {
      "cell_type": "markdown",
      "source": [
        "# Preprocessing Data"
      ],
      "metadata": {
        "id": "NeoQYwJ25jdu"
      }
    },
    {
      "cell_type": "code",
      "source": [
        "# Load Dataset\n",
        "df_original = pd.read_csv('dataset_herbamate.csv')\n",
        "\n",
        "# Ganti koma dengan titik dan konversi kolom 'relevance_score' menjadi float\n",
        "df = df_original.copy()\n",
        "df['relevance_score'] = df['relevance_score'].str.replace(',', '.').astype(float)\n",
        "\n",
        "# Pastikan tidak ada nilai NaN dan menghapusnya\n",
        "df_cleaned = df.dropna()\n",
        "\n",
        "# Memisahkan 'symptoms' menjadi list dan menerapkan MultiLabelBinarizer\n",
        "mlb = MultiLabelBinarizer()\n",
        "symptoms = df_cleaned['symptoms'].str.split(',')\n",
        "\n",
        "# Transformasi symptoms menjadi format binary\n",
        "symptom_matrix = mlb.fit_transform(symptoms)\n",
        "\n",
        "# Membuat DataFrame untuk matrix symptoms\n",
        "symptom_df = pd.DataFrame(symptom_matrix, columns=mlb.classes_)\n",
        "\n",
        "# Gabungkan dengan dataset asli\n",
        "df_symptoms = pd.concat([df_cleaned, symptom_df], axis=1)\n",
        "\n",
        "# Drop kolom 'symptoms' yang asli\n",
        "df_symptoms = df_symptoms.drop('symptoms', axis=1)\n",
        "\n",
        "# Cek data setelah pembersihan\n",
        "print(df_symptoms.head())\n",
        "\n",
        "# Simpan data yang telah diproses ke file CSV\n",
        "df_symptoms.to_csv('preprocessed_data.csv', index=False)\n",
        "print(\"Data yang sudah diproses telah disimpan sebagai 'preprocessed_data.csv'\")\n"
      ],
      "metadata": {
        "id": "Q9mMav8H2Q2-",
        "collapsed": true,
        "colab": {
          "base_uri": "https://localhost:8080/"
        },
        "outputId": "693cbe83-24be-448b-f649-0c503f988a5a"
      },
      "execution_count": 11,
      "outputs": [
        {
          "output_type": "stream",
          "name": "stdout",
          "text": [
            "  herbs                                       usage_method  relevance_score  \\\n",
            "0  Adas  Rebus 1-2 sendok teh biji adas dalam 1,5 gelas...              0.7   \n",
            "1  Adas  Rebus 1-2 sendok teh biji adas dalam segelas a...              0.6   \n",
            "2  Adas  Rebus 1-2 sendok teh biji adas dalam segelas a...              0.8   \n",
            "3  Adas  Rebus 1-2 sendok teh biji adas dalam segelas a...              0.9   \n",
            "4  Adas  Seduh 1-2 sendok teh biji adas dalam segelas a...              1.0   \n",
            "\n",
            "   Batuk  Bau badan  Bau mulut  Darah tinggi  Dehidrasi  Demam  Diare  ...  \\\n",
            "0      1          0          0             0          0      0      0  ...   \n",
            "1      0          0          0             0          0      0      0  ...   \n",
            "2      0          0          0             0          0      0      0  ...   \n",
            "3      0          0          0             0          0      0      0  ...   \n",
            "4      0          0          0             0          0      0      0  ...   \n",
            "\n",
            "   Sakit kepala  Sakit perut  Sakit tenggorokan  Sariawan  Sembelit  Stres  \\\n",
            "0             0            0                  0         0         0      0   \n",
            "1             0            0                  1         0         0      0   \n",
            "2             0            0                  0         1         0      0   \n",
            "3             0            0                  0         0         0      0   \n",
            "4             0            0                  0         0         0      0   \n",
            "\n",
            "   Susah tidur  Tenggorokan gatal  Tenggorokan kering  Tidak nafsu makan  \n",
            "0            0                  0                   0                  0  \n",
            "1            0                  0                   0                  0  \n",
            "2            0                  0                   0                  0  \n",
            "3            0                  0                   0                  0  \n",
            "4            0                  0                   0                  0  \n",
            "\n",
            "[5 rows x 47 columns]\n",
            "Data yang sudah diproses telah disimpan sebagai 'preprocessed_data.csv'\n"
          ]
        }
      ]
    },
    {
      "cell_type": "markdown",
      "source": [
        "# Data Preparation"
      ],
      "metadata": {
        "id": "StniIkieJapI"
      }
    },
    {
      "cell_type": "code",
      "source": [
        "# Memisahkan Fitur dan Target\n",
        "X = df_symptoms.drop(['herbs', 'usage_method'], axis=1)\n",
        "y = df_symptoms['relevance_score']\n",
        "\n",
        "# Bagi data menjadi train dan test set\n",
        "X_train, X_test, y_train, y_test = train_test_split(X, y, test_size=0.2, random_state=42)\n",
        "\n",
        "# Pastikan data sudah dalam format numerik\n",
        "X_train = X_train.astype(float)\n",
        "X_test = X_test.astype(float)\n",
        "y_train = y_train.astype(float)\n",
        "y_test = y_test.astype(float)\n",
        "\n",
        "# Cek bentuk data\n",
        "print(X_train.shape, y_train.shape)\n"
      ],
      "metadata": {
        "id": "UOKb-H5b2X1p",
        "colab": {
          "base_uri": "https://localhost:8080/"
        },
        "outputId": "9186988a-72bd-41c6-f0a0-171bb2804806"
      },
      "execution_count": 12,
      "outputs": [
        {
          "output_type": "stream",
          "name": "stdout",
          "text": [
            "(800, 45) (800,)\n"
          ]
        }
      ]
    },
    {
      "cell_type": "markdown",
      "source": [
        "# Build Model"
      ],
      "metadata": {
        "id": "rfJc7We5JlgL"
      }
    },
    {
      "cell_type": "code",
      "source": [
        "# Membangun Model Neural Network\n",
        "def create_model(input_shape):\n",
        "    model = Sequential([\n",
        "        Input(shape=(input_shape,)),\n",
        "        Dense(64, activation='relu', kernel_regularizer=tf.keras.regularizers.l2(0.001)),\n",
        "        Dense(32, activation='relu', kernel_regularizer=tf.keras.regularizers.l2(0.001)),\n",
        "        Dense(16, activation='relu'),\n",
        "        Dense(1, activation='linear')\n",
        "    ])\n",
        "\n",
        "    model.compile(\n",
        "        optimizer=Adam(learning_rate=0.001),\n",
        "        loss='mean_squared_error',\n",
        "        metrics=['mae']\n",
        "    )\n",
        "\n",
        "    return model\n",
        "\n",
        "# Inisialisasi dan latih model\n",
        "model = create_model(X_train.shape[1])\n",
        "\n",
        "# Early stopping untuk mencegah overfitting\n",
        "early_stopping = tf.keras.callbacks.EarlyStopping(\n",
        "    monitor='val_loss',\n",
        "    patience=10,\n",
        "    restore_best_weights=True\n",
        ")\n",
        "\n",
        "# Ringkasan model\n",
        "model.summary()\n",
        "\n"
      ],
      "metadata": {
        "id": "CMXJHSc42awV",
        "collapsed": true,
        "colab": {
          "base_uri": "https://localhost:8080/",
          "height": 279
        },
        "outputId": "87f930df-b53d-4440-b2bf-649fe8418b9f"
      },
      "execution_count": 13,
      "outputs": [
        {
          "output_type": "display_data",
          "data": {
            "text/plain": [
              "\u001b[1mModel: \"sequential_1\"\u001b[0m\n"
            ],
            "text/html": [
              "<pre style=\"white-space:pre;overflow-x:auto;line-height:normal;font-family:Menlo,'DejaVu Sans Mono',consolas,'Courier New',monospace\"><span style=\"font-weight: bold\">Model: \"sequential_1\"</span>\n",
              "</pre>\n"
            ]
          },
          "metadata": {}
        },
        {
          "output_type": "display_data",
          "data": {
            "text/plain": [
              "┏━━━━━━━━━━━━━━━━━━━━━━━━━━━━━━━━━━━━━━┳━━━━━━━━━━━━━━━━━━━━━━━━━━━━━┳━━━━━━━━━━━━━━━━━┓\n",
              "┃\u001b[1m \u001b[0m\u001b[1mLayer (type)                        \u001b[0m\u001b[1m \u001b[0m┃\u001b[1m \u001b[0m\u001b[1mOutput Shape               \u001b[0m\u001b[1m \u001b[0m┃\u001b[1m \u001b[0m\u001b[1m        Param #\u001b[0m\u001b[1m \u001b[0m┃\n",
              "┡━━━━━━━━━━━━━━━━━━━━━━━━━━━━━━━━━━━━━━╇━━━━━━━━━━━━━━━━━━━━━━━━━━━━━╇━━━━━━━━━━━━━━━━━┩\n",
              "│ dense_4 (\u001b[38;5;33mDense\u001b[0m)                      │ (\u001b[38;5;45mNone\u001b[0m, \u001b[38;5;34m64\u001b[0m)                  │           \u001b[38;5;34m2,944\u001b[0m │\n",
              "├──────────────────────────────────────┼─────────────────────────────┼─────────────────┤\n",
              "│ dense_5 (\u001b[38;5;33mDense\u001b[0m)                      │ (\u001b[38;5;45mNone\u001b[0m, \u001b[38;5;34m32\u001b[0m)                  │           \u001b[38;5;34m2,080\u001b[0m │\n",
              "├──────────────────────────────────────┼─────────────────────────────┼─────────────────┤\n",
              "│ dense_6 (\u001b[38;5;33mDense\u001b[0m)                      │ (\u001b[38;5;45mNone\u001b[0m, \u001b[38;5;34m16\u001b[0m)                  │             \u001b[38;5;34m528\u001b[0m │\n",
              "├──────────────────────────────────────┼─────────────────────────────┼─────────────────┤\n",
              "│ dense_7 (\u001b[38;5;33mDense\u001b[0m)                      │ (\u001b[38;5;45mNone\u001b[0m, \u001b[38;5;34m1\u001b[0m)                   │              \u001b[38;5;34m17\u001b[0m │\n",
              "└──────────────────────────────────────┴─────────────────────────────┴─────────────────┘\n"
            ],
            "text/html": [
              "<pre style=\"white-space:pre;overflow-x:auto;line-height:normal;font-family:Menlo,'DejaVu Sans Mono',consolas,'Courier New',monospace\">┏━━━━━━━━━━━━━━━━━━━━━━━━━━━━━━━━━━━━━━┳━━━━━━━━━━━━━━━━━━━━━━━━━━━━━┳━━━━━━━━━━━━━━━━━┓\n",
              "┃<span style=\"font-weight: bold\"> Layer (type)                         </span>┃<span style=\"font-weight: bold\"> Output Shape                </span>┃<span style=\"font-weight: bold\">         Param # </span>┃\n",
              "┡━━━━━━━━━━━━━━━━━━━━━━━━━━━━━━━━━━━━━━╇━━━━━━━━━━━━━━━━━━━━━━━━━━━━━╇━━━━━━━━━━━━━━━━━┩\n",
              "│ dense_4 (<span style=\"color: #0087ff; text-decoration-color: #0087ff\">Dense</span>)                      │ (<span style=\"color: #00d7ff; text-decoration-color: #00d7ff\">None</span>, <span style=\"color: #00af00; text-decoration-color: #00af00\">64</span>)                  │           <span style=\"color: #00af00; text-decoration-color: #00af00\">2,944</span> │\n",
              "├──────────────────────────────────────┼─────────────────────────────┼─────────────────┤\n",
              "│ dense_5 (<span style=\"color: #0087ff; text-decoration-color: #0087ff\">Dense</span>)                      │ (<span style=\"color: #00d7ff; text-decoration-color: #00d7ff\">None</span>, <span style=\"color: #00af00; text-decoration-color: #00af00\">32</span>)                  │           <span style=\"color: #00af00; text-decoration-color: #00af00\">2,080</span> │\n",
              "├──────────────────────────────────────┼─────────────────────────────┼─────────────────┤\n",
              "│ dense_6 (<span style=\"color: #0087ff; text-decoration-color: #0087ff\">Dense</span>)                      │ (<span style=\"color: #00d7ff; text-decoration-color: #00d7ff\">None</span>, <span style=\"color: #00af00; text-decoration-color: #00af00\">16</span>)                  │             <span style=\"color: #00af00; text-decoration-color: #00af00\">528</span> │\n",
              "├──────────────────────────────────────┼─────────────────────────────┼─────────────────┤\n",
              "│ dense_7 (<span style=\"color: #0087ff; text-decoration-color: #0087ff\">Dense</span>)                      │ (<span style=\"color: #00d7ff; text-decoration-color: #00d7ff\">None</span>, <span style=\"color: #00af00; text-decoration-color: #00af00\">1</span>)                   │              <span style=\"color: #00af00; text-decoration-color: #00af00\">17</span> │\n",
              "└──────────────────────────────────────┴─────────────────────────────┴─────────────────┘\n",
              "</pre>\n"
            ]
          },
          "metadata": {}
        },
        {
          "output_type": "display_data",
          "data": {
            "text/plain": [
              "\u001b[1m Total params: \u001b[0m\u001b[38;5;34m5,569\u001b[0m (21.75 KB)\n"
            ],
            "text/html": [
              "<pre style=\"white-space:pre;overflow-x:auto;line-height:normal;font-family:Menlo,'DejaVu Sans Mono',consolas,'Courier New',monospace\"><span style=\"font-weight: bold\"> Total params: </span><span style=\"color: #00af00; text-decoration-color: #00af00\">5,569</span> (21.75 KB)\n",
              "</pre>\n"
            ]
          },
          "metadata": {}
        },
        {
          "output_type": "display_data",
          "data": {
            "text/plain": [
              "\u001b[1m Trainable params: \u001b[0m\u001b[38;5;34m5,569\u001b[0m (21.75 KB)\n"
            ],
            "text/html": [
              "<pre style=\"white-space:pre;overflow-x:auto;line-height:normal;font-family:Menlo,'DejaVu Sans Mono',consolas,'Courier New',monospace\"><span style=\"font-weight: bold\"> Trainable params: </span><span style=\"color: #00af00; text-decoration-color: #00af00\">5,569</span> (21.75 KB)\n",
              "</pre>\n"
            ]
          },
          "metadata": {}
        },
        {
          "output_type": "display_data",
          "data": {
            "text/plain": [
              "\u001b[1m Non-trainable params: \u001b[0m\u001b[38;5;34m0\u001b[0m (0.00 B)\n"
            ],
            "text/html": [
              "<pre style=\"white-space:pre;overflow-x:auto;line-height:normal;font-family:Menlo,'DejaVu Sans Mono',consolas,'Courier New',monospace\"><span style=\"font-weight: bold\"> Non-trainable params: </span><span style=\"color: #00af00; text-decoration-color: #00af00\">0</span> (0.00 B)\n",
              "</pre>\n"
            ]
          },
          "metadata": {}
        }
      ]
    },
    {
      "cell_type": "markdown",
      "source": [
        "# Train Model"
      ],
      "metadata": {
        "id": "h5t3vbaOJpxe"
      }
    },
    {
      "cell_type": "code",
      "source": [
        "# Melatih Model\n",
        "history = model.fit(\n",
        "    X_train, y_train,\n",
        "    epochs=50,\n",
        "    batch_size=32,\n",
        "    validation_split=0.2,\n",
        "    callbacks=[early_stopping],\n",
        "    verbose=1\n",
        ")\n",
        "\n",
        "# Visualisasi hasil pelatihan\n",
        "plt.figure(figsize=(12, 6))\n",
        "\n",
        "# Plot loss\n",
        "plt.subplot(1, 2, 1)\n",
        "plt.plot(history.history['loss'], label='Train Loss')\n",
        "plt.plot(history.history['val_loss'], label='Validation Loss')\n",
        "plt.title('Loss vs Epochs')\n",
        "plt.xlabel('Epoch')\n",
        "plt.ylabel('Loss')\n",
        "plt.legend()\n",
        "\n",
        "# Plot MAE (Mean Absolute Error)\n",
        "plt.subplot(1, 2, 2)\n",
        "plt.plot(history.history['mae'], label='Train MAE')\n",
        "plt.plot(history.history['val_mae'], label='Validation MAE')\n",
        "plt.title('MAE vs Epochs')\n",
        "plt.xlabel('Epoch')\n",
        "plt.ylabel('Mean Absolute Error')\n",
        "plt.legend()\n",
        "\n",
        "plt.show()\n"
      ],
      "metadata": {
        "id": "6xL8ppY62dfh",
        "collapsed": true,
        "colab": {
          "base_uri": "https://localhost:8080/",
          "height": 1000
        },
        "outputId": "cc4f059c-38f6-4544-dbd6-86ee2565c9ab"
      },
      "execution_count": 14,
      "outputs": [
        {
          "output_type": "stream",
          "name": "stdout",
          "text": [
            "Epoch 1/50\n",
            "\u001b[1m20/20\u001b[0m \u001b[32m━━━━━━━━━━━━━━━━━━━━\u001b[0m\u001b[37m\u001b[0m \u001b[1m2s\u001b[0m 13ms/step - loss: 0.3410 - mae: 0.4480 - val_loss: 0.1196 - val_mae: 0.1403\n",
            "Epoch 2/50\n",
            "\u001b[1m20/20\u001b[0m \u001b[32m━━━━━━━━━━━━━━━━━━━━\u001b[0m\u001b[37m\u001b[0m \u001b[1m0s\u001b[0m 4ms/step - loss: 0.1145 - mae: 0.1360 - val_loss: 0.0962 - val_mae: 0.1018\n",
            "Epoch 3/50\n",
            "\u001b[1m20/20\u001b[0m \u001b[32m━━━━━━━━━━━━━━━━━━━━\u001b[0m\u001b[37m\u001b[0m \u001b[1m0s\u001b[0m 3ms/step - loss: 0.0895 - mae: 0.0826 - val_loss: 0.0810 - val_mae: 0.0639\n",
            "Epoch 4/50\n",
            "\u001b[1m20/20\u001b[0m \u001b[32m━━━━━━━━━━━━━━━━━━━━\u001b[0m\u001b[37m\u001b[0m \u001b[1m0s\u001b[0m 3ms/step - loss: 0.0772 - mae: 0.0573 - val_loss: 0.0725 - val_mae: 0.0541\n",
            "Epoch 5/50\n",
            "\u001b[1m20/20\u001b[0m \u001b[32m━━━━━━━━━━━━━━━━━━━━\u001b[0m\u001b[37m\u001b[0m \u001b[1m0s\u001b[0m 4ms/step - loss: 0.0699 - mae: 0.0499 - val_loss: 0.0655 - val_mae: 0.0476\n",
            "Epoch 6/50\n",
            "\u001b[1m20/20\u001b[0m \u001b[32m━━━━━━━━━━━━━━━━━━━━\u001b[0m\u001b[37m\u001b[0m \u001b[1m0s\u001b[0m 4ms/step - loss: 0.0632 - mae: 0.0431 - val_loss: 0.0594 - val_mae: 0.0404\n",
            "Epoch 7/50\n",
            "\u001b[1m20/20\u001b[0m \u001b[32m━━━━━━━━━━━━━━━━━━━━\u001b[0m\u001b[37m\u001b[0m \u001b[1m0s\u001b[0m 3ms/step - loss: 0.0577 - mae: 0.0388 - val_loss: 0.0540 - val_mae: 0.0352\n",
            "Epoch 8/50\n",
            "\u001b[1m20/20\u001b[0m \u001b[32m━━━━━━━━━━━━━━━━━━━━\u001b[0m\u001b[37m\u001b[0m \u001b[1m0s\u001b[0m 4ms/step - loss: 0.0528 - mae: 0.0355 - val_loss: 0.0495 - val_mae: 0.0315\n",
            "Epoch 9/50\n",
            "\u001b[1m20/20\u001b[0m \u001b[32m━━━━━━━━━━━━━━━━━━━━\u001b[0m\u001b[37m\u001b[0m \u001b[1m0s\u001b[0m 4ms/step - loss: 0.0481 - mae: 0.0292 - val_loss: 0.0455 - val_mae: 0.0279\n",
            "Epoch 10/50\n",
            "\u001b[1m20/20\u001b[0m \u001b[32m━━━━━━━━━━━━━━━━━━━━\u001b[0m\u001b[37m\u001b[0m \u001b[1m0s\u001b[0m 4ms/step - loss: 0.0443 - mae: 0.0253 - val_loss: 0.0418 - val_mae: 0.0223\n",
            "Epoch 11/50\n",
            "\u001b[1m20/20\u001b[0m \u001b[32m━━━━━━━━━━━━━━━━━━━━\u001b[0m\u001b[37m\u001b[0m \u001b[1m0s\u001b[0m 4ms/step - loss: 0.0409 - mae: 0.0215 - val_loss: 0.0386 - val_mae: 0.0188\n",
            "Epoch 12/50\n",
            "\u001b[1m20/20\u001b[0m \u001b[32m━━━━━━━━━━━━━━━━━━━━\u001b[0m\u001b[37m\u001b[0m \u001b[1m0s\u001b[0m 3ms/step - loss: 0.0377 - mae: 0.0182 - val_loss: 0.0358 - val_mae: 0.0161\n",
            "Epoch 13/50\n",
            "\u001b[1m20/20\u001b[0m \u001b[32m━━━━━━━━━━━━━━━━━━━━\u001b[0m\u001b[37m\u001b[0m \u001b[1m0s\u001b[0m 3ms/step - loss: 0.0350 - mae: 0.0153 - val_loss: 0.0332 - val_mae: 0.0132\n",
            "Epoch 14/50\n",
            "\u001b[1m20/20\u001b[0m \u001b[32m━━━━━━━━━━━━━━━━━━━━\u001b[0m\u001b[37m\u001b[0m \u001b[1m0s\u001b[0m 3ms/step - loss: 0.0325 - mae: 0.0125 - val_loss: 0.0309 - val_mae: 0.0111\n",
            "Epoch 15/50\n",
            "\u001b[1m20/20\u001b[0m \u001b[32m━━━━━━━━━━━━━━━━━━━━\u001b[0m\u001b[37m\u001b[0m \u001b[1m0s\u001b[0m 5ms/step - loss: 0.0303 - mae: 0.0104 - val_loss: 0.0288 - val_mae: 0.0100\n",
            "Epoch 16/50\n",
            "\u001b[1m20/20\u001b[0m \u001b[32m━━━━━━━━━━━━━━━━━━━━\u001b[0m\u001b[37m\u001b[0m \u001b[1m0s\u001b[0m 3ms/step - loss: 0.0283 - mae: 0.0088 - val_loss: 0.0269 - val_mae: 0.0087\n",
            "Epoch 17/50\n",
            "\u001b[1m20/20\u001b[0m \u001b[32m━━━━━━━━━━━━━━━━━━━━\u001b[0m\u001b[37m\u001b[0m \u001b[1m0s\u001b[0m 3ms/step - loss: 0.0264 - mae: 0.0071 - val_loss: 0.0252 - val_mae: 0.0066\n",
            "Epoch 18/50\n",
            "\u001b[1m20/20\u001b[0m \u001b[32m━━━━━━━━━━━━━━━━━━━━\u001b[0m\u001b[37m\u001b[0m \u001b[1m0s\u001b[0m 4ms/step - loss: 0.0247 - mae: 0.0059 - val_loss: 0.0236 - val_mae: 0.0056\n",
            "Epoch 19/50\n",
            "\u001b[1m20/20\u001b[0m \u001b[32m━━━━━━━━━━━━━━━━━━━━\u001b[0m\u001b[37m\u001b[0m \u001b[1m0s\u001b[0m 5ms/step - loss: 0.0232 - mae: 0.0052 - val_loss: 0.0222 - val_mae: 0.0050\n",
            "Epoch 20/50\n",
            "\u001b[1m20/20\u001b[0m \u001b[32m━━━━━━━━━━━━━━━━━━━━\u001b[0m\u001b[37m\u001b[0m \u001b[1m0s\u001b[0m 4ms/step - loss: 0.0218 - mae: 0.0044 - val_loss: 0.0208 - val_mae: 0.0043\n",
            "Epoch 21/50\n",
            "\u001b[1m20/20\u001b[0m \u001b[32m━━━━━━━━━━━━━━━━━━━━\u001b[0m\u001b[37m\u001b[0m \u001b[1m0s\u001b[0m 3ms/step - loss: 0.0205 - mae: 0.0040 - val_loss: 0.0196 - val_mae: 0.0045\n",
            "Epoch 22/50\n",
            "\u001b[1m20/20\u001b[0m \u001b[32m━━━━━━━━━━━━━━━━━━━━\u001b[0m\u001b[37m\u001b[0m \u001b[1m0s\u001b[0m 4ms/step - loss: 0.0193 - mae: 0.0039 - val_loss: 0.0184 - val_mae: 0.0037\n",
            "Epoch 23/50\n",
            "\u001b[1m20/20\u001b[0m \u001b[32m━━━━━━━━━━━━━━━━━━━━\u001b[0m\u001b[37m\u001b[0m \u001b[1m0s\u001b[0m 3ms/step - loss: 0.0181 - mae: 0.0033 - val_loss: 0.0174 - val_mae: 0.0037\n",
            "Epoch 24/50\n",
            "\u001b[1m20/20\u001b[0m \u001b[32m━━━━━━━━━━━━━━━━━━━━\u001b[0m\u001b[37m\u001b[0m \u001b[1m0s\u001b[0m 4ms/step - loss: 0.0171 - mae: 0.0035 - val_loss: 0.0164 - val_mae: 0.0036\n",
            "Epoch 25/50\n",
            "\u001b[1m20/20\u001b[0m \u001b[32m━━━━━━━━━━━━━━━━━━━━\u001b[0m\u001b[37m\u001b[0m \u001b[1m0s\u001b[0m 3ms/step - loss: 0.0161 - mae: 0.0032 - val_loss: 0.0155 - val_mae: 0.0035\n",
            "Epoch 26/50\n",
            "\u001b[1m20/20\u001b[0m \u001b[32m━━━━━━━━━━━━━━━━━━━━\u001b[0m\u001b[37m\u001b[0m \u001b[1m0s\u001b[0m 4ms/step - loss: 0.0153 - mae: 0.0034 - val_loss: 0.0146 - val_mae: 0.0033\n",
            "Epoch 27/50\n",
            "\u001b[1m20/20\u001b[0m \u001b[32m━━━━━━━━━━━━━━━━━━━━\u001b[0m\u001b[37m\u001b[0m \u001b[1m0s\u001b[0m 3ms/step - loss: 0.0144 - mae: 0.0027 - val_loss: 0.0138 - val_mae: 0.0037\n",
            "Epoch 28/50\n",
            "\u001b[1m20/20\u001b[0m \u001b[32m━━━━━━━━━━━━━━━━━━━━\u001b[0m\u001b[37m\u001b[0m \u001b[1m0s\u001b[0m 4ms/step - loss: 0.0136 - mae: 0.0029 - val_loss: 0.0131 - val_mae: 0.0034\n",
            "Epoch 29/50\n",
            "\u001b[1m20/20\u001b[0m \u001b[32m━━━━━━━━━━━━━━━━━━━━\u001b[0m\u001b[37m\u001b[0m \u001b[1m0s\u001b[0m 3ms/step - loss: 0.0129 - mae: 0.0029 - val_loss: 0.0124 - val_mae: 0.0026\n",
            "Epoch 30/50\n",
            "\u001b[1m20/20\u001b[0m \u001b[32m━━━━━━━━━━━━━━━━━━━━\u001b[0m\u001b[37m\u001b[0m \u001b[1m0s\u001b[0m 4ms/step - loss: 0.0123 - mae: 0.0026 - val_loss: 0.0118 - val_mae: 0.0032\n",
            "Epoch 31/50\n",
            "\u001b[1m20/20\u001b[0m \u001b[32m━━━━━━━━━━━━━━━━━━━━\u001b[0m\u001b[37m\u001b[0m \u001b[1m0s\u001b[0m 4ms/step - loss: 0.0116 - mae: 0.0025 - val_loss: 0.0112 - val_mae: 0.0025\n",
            "Epoch 32/50\n",
            "\u001b[1m20/20\u001b[0m \u001b[32m━━━━━━━━━━━━━━━━━━━━\u001b[0m\u001b[37m\u001b[0m \u001b[1m0s\u001b[0m 3ms/step - loss: 0.0110 - mae: 0.0024 - val_loss: 0.0106 - val_mae: 0.0024\n",
            "Epoch 33/50\n",
            "\u001b[1m20/20\u001b[0m \u001b[32m━━━━━━━━━━━━━━━━━━━━\u001b[0m\u001b[37m\u001b[0m \u001b[1m0s\u001b[0m 4ms/step - loss: 0.0105 - mae: 0.0026 - val_loss: 0.0101 - val_mae: 0.0024\n",
            "Epoch 34/50\n",
            "\u001b[1m20/20\u001b[0m \u001b[32m━━━━━━━━━━━━━━━━━━━━\u001b[0m\u001b[37m\u001b[0m \u001b[1m0s\u001b[0m 3ms/step - loss: 0.0100 - mae: 0.0022 - val_loss: 0.0096 - val_mae: 0.0023\n",
            "Epoch 35/50\n",
            "\u001b[1m20/20\u001b[0m \u001b[32m━━━━━━━━━━━━━━━━━━━━\u001b[0m\u001b[37m\u001b[0m \u001b[1m0s\u001b[0m 3ms/step - loss: 0.0095 - mae: 0.0022 - val_loss: 0.0091 - val_mae: 0.0024\n",
            "Epoch 36/50\n",
            "\u001b[1m20/20\u001b[0m \u001b[32m━━━━━━━━━━━━━━━━━━━━\u001b[0m\u001b[37m\u001b[0m \u001b[1m0s\u001b[0m 4ms/step - loss: 0.0090 - mae: 0.0024 - val_loss: 0.0087 - val_mae: 0.0023\n",
            "Epoch 37/50\n",
            "\u001b[1m20/20\u001b[0m \u001b[32m━━━━━━━━━━━━━━━━━━━━\u001b[0m\u001b[37m\u001b[0m \u001b[1m0s\u001b[0m 4ms/step - loss: 0.0086 - mae: 0.0024 - val_loss: 0.0083 - val_mae: 0.0025\n",
            "Epoch 38/50\n",
            "\u001b[1m20/20\u001b[0m \u001b[32m━━━━━━━━━━━━━━━━━━━━\u001b[0m\u001b[37m\u001b[0m \u001b[1m0s\u001b[0m 4ms/step - loss: 0.0082 - mae: 0.0022 - val_loss: 0.0079 - val_mae: 0.0023\n",
            "Epoch 39/50\n",
            "\u001b[1m20/20\u001b[0m \u001b[32m━━━━━━━━━━━━━━━━━━━━\u001b[0m\u001b[37m\u001b[0m \u001b[1m0s\u001b[0m 3ms/step - loss: 0.0078 - mae: 0.0022 - val_loss: 0.0076 - val_mae: 0.0025\n",
            "Epoch 40/50\n",
            "\u001b[1m20/20\u001b[0m \u001b[32m━━━━━━━━━━━━━━━━━━━━\u001b[0m\u001b[37m\u001b[0m \u001b[1m0s\u001b[0m 4ms/step - loss: 0.0075 - mae: 0.0022 - val_loss: 0.0072 - val_mae: 0.0023\n",
            "Epoch 41/50\n",
            "\u001b[1m20/20\u001b[0m \u001b[32m━━━━━━━━━━━━━━━━━━━━\u001b[0m\u001b[37m\u001b[0m \u001b[1m0s\u001b[0m 4ms/step - loss: 0.0071 - mae: 0.0021 - val_loss: 0.0069 - val_mae: 0.0021\n",
            "Epoch 42/50\n",
            "\u001b[1m20/20\u001b[0m \u001b[32m━━━━━━━━━━━━━━━━━━━━\u001b[0m\u001b[37m\u001b[0m \u001b[1m0s\u001b[0m 3ms/step - loss: 0.0068 - mae: 0.0022 - val_loss: 0.0066 - val_mae: 0.0023\n",
            "Epoch 43/50\n",
            "\u001b[1m20/20\u001b[0m \u001b[32m━━━━━━━━━━━━━━━━━━━━\u001b[0m\u001b[37m\u001b[0m \u001b[1m0s\u001b[0m 3ms/step - loss: 0.0065 - mae: 0.0022 - val_loss: 0.0063 - val_mae: 0.0022\n",
            "Epoch 44/50\n",
            "\u001b[1m20/20\u001b[0m \u001b[32m━━━━━━━━━━━━━━━━━━━━\u001b[0m\u001b[37m\u001b[0m \u001b[1m0s\u001b[0m 3ms/step - loss: 0.0062 - mae: 0.0021 - val_loss: 0.0060 - val_mae: 0.0022\n",
            "Epoch 45/50\n",
            "\u001b[1m20/20\u001b[0m \u001b[32m━━━━━━━━━━━━━━━━━━━━\u001b[0m\u001b[37m\u001b[0m \u001b[1m0s\u001b[0m 4ms/step - loss: 0.0060 - mae: 0.0021 - val_loss: 0.0058 - val_mae: 0.0023\n",
            "Epoch 46/50\n",
            "\u001b[1m20/20\u001b[0m \u001b[32m━━━━━━━━━━━━━━━━━━━━\u001b[0m\u001b[37m\u001b[0m \u001b[1m0s\u001b[0m 4ms/step - loss: 0.0057 - mae: 0.0022 - val_loss: 0.0055 - val_mae: 0.0022\n",
            "Epoch 47/50\n",
            "\u001b[1m20/20\u001b[0m \u001b[32m━━━━━━━━━━━━━━━━━━━━\u001b[0m\u001b[37m\u001b[0m \u001b[1m0s\u001b[0m 4ms/step - loss: 0.0055 - mae: 0.0023 - val_loss: 0.0053 - val_mae: 0.0026\n",
            "Epoch 48/50\n",
            "\u001b[1m20/20\u001b[0m \u001b[32m━━━━━━━━━━━━━━━━━━━━\u001b[0m\u001b[37m\u001b[0m \u001b[1m0s\u001b[0m 3ms/step - loss: 0.0053 - mae: 0.0022 - val_loss: 0.0051 - val_mae: 0.0021\n",
            "Epoch 49/50\n",
            "\u001b[1m20/20\u001b[0m \u001b[32m━━━━━━━━━━━━━━━━━━━━\u001b[0m\u001b[37m\u001b[0m \u001b[1m0s\u001b[0m 5ms/step - loss: 0.0050 - mae: 0.0022 - val_loss: 0.0049 - val_mae: 0.0022\n",
            "Epoch 50/50\n",
            "\u001b[1m20/20\u001b[0m \u001b[32m━━━━━━━━━━━━━━━━━━━━\u001b[0m\u001b[37m\u001b[0m \u001b[1m0s\u001b[0m 3ms/step - loss: 0.0048 - mae: 0.0020 - val_loss: 0.0047 - val_mae: 0.0021\n"
          ]
        },
        {
          "output_type": "display_data",
          "data": {
            "text/plain": [
              "<Figure size 1200x600 with 2 Axes>"
            ],
            "image/png": "[encoded data removed]"
          },
          "metadata": {}
        }
      ]
    },
    {
      "cell_type": "markdown",
      "source": [
        "# Model Evaluation"
      ],
      "metadata": {
        "id": "RIdP4i8QJuRz"
      }
    },
    {
      "cell_type": "code",
      "source": [
        "# Evaluasi Model\n",
        "y_pred = model.predict(X_test)\n",
        "\n",
        "# Pastikan y_test adalah array NumPy dan lakukan flatten()\n",
        "y_test = y_test.values.flatten()  # Mengonversi ke array NumPy dan meratakan dimensi\n",
        "y_pred = y_pred.flatten()  # Meratakan y_pred jika perlu\n",
        "\n",
        "# Hitung error dan evaluasi metrik\n",
        "errors = y_test - y_pred\n",
        "\n",
        "# Visualisasi Distribusi Kesalahan (Error Distribution)\n",
        "plt.figure(figsize=(8, 6))\n",
        "plt.hist(errors, bins=20, color='orange', edgecolor='black')\n",
        "plt.title('Distribusi Kesalahan')\n",
        "plt.xlabel('Kesalahan (Prediksi - Nilai Sebenarnya)')\n",
        "plt.ylabel('Frekuensi')\n",
        "plt.show()\n",
        "\n",
        "# Evaluasi R2, MSE, dan RMSE\n",
        "r2 = r2_score(y_test, y_pred)\n",
        "mse = mean_squared_error(y_test, y_pred)\n",
        "rmse = math.sqrt(mse)\n",
        "\n",
        "print(f\"R-squared: {r2}\")\n",
        "print(f\"Mean Squared Error (MSE): {mse}\")\n",
        "print(f\"Root Mean Squared Error (RMSE): {rmse}\")"
      ],
      "metadata": {
        "id": "8kBWhgMn2jUx",
        "collapsed": true,
        "colab": {
          "base_uri": "https://localhost:8080/",
          "height": 591
        },
        "outputId": "8af4d586-fadb-436f-82e8-9ca255886e77"
      },
      "execution_count": 15,
      "outputs": [
        {
          "output_type": "stream",
          "name": "stdout",
          "text": [
            "\u001b[1m7/7\u001b[0m \u001b[32m━━━━━━━━━━━━━━━━━━━━\u001b[0m\u001b[37m\u001b[0m \u001b[1m0s\u001b[0m 37ms/step\n"
          ]
        },
        {
          "output_type": "display_data",
          "data": {
            "text/plain": [
              "<Figure size 800x600 with 1 Axes>"
            ],
            "image/png": "[encoded data removed]"
          },
          "metadata": {}
        },
        {
          "output_type": "stream",
          "name": "stdout",
          "text": [
            "R-squared: 0.999096795121898\n",
            "Mean Squared Error (MSE): 1.2283952980637068e-05\n",
            "Root Mean Squared Error (RMSE): 0.003504847069507751\n"
          ]
        }
      ]
    },
    {
      "cell_type": "markdown",
      "source": [
        "# Herb Prediction Based on Symptons"
      ],
      "metadata": {
        "id": "oYLFzx6PJzpM"
      }
    },
    {
      "cell_type": "code",
      "source": [
        "# Fungsi untuk Memprediksi dan Memberikan Rekomendasi Herbal\n",
        "def recommend_herbs(symptoms_input):\n",
        "    \"\"\"\n",
        "\n",
        "    Args:\n",
        "      symptoms_input:\n",
        "\n",
        "    Returns:\n",
        "\n",
        "    \"\"\"\n",
        "    # Pisahkan gejala input menjadi list\n",
        "    input_symptoms = symptoms_input.split(',')\n",
        "\n",
        "    # Transformasi input gejala ke dalam format yang sesuai dengan model\n",
        "    symptoms_input_transformed = mlb.transform([input_symptoms])\n",
        "\n",
        "    # Cek apakah jumlah fitur input sama dengan jumlah fitur model\n",
        "    # Jika tidak sama, pad dengan nol (kolom yang tidak ada pada input)\n",
        "    if symptoms_input_transformed.shape[1] != X_train.shape[1]:\n",
        "        # Menambahkan kolom nol untuk fitur yang tidak ada pada input\n",
        "        missing_cols = X_train.shape[1] - symptoms_input_transformed.shape[1]\n",
        "        symptoms_input_transformed = np.pad(symptoms_input_transformed, ((0, 0), (0, missing_cols)), mode='constant')\n",
        "\n",
        "    # Prediksi skor relevansi\n",
        "    predicted_relevance_score = model.predict(symptoms_input_transformed)\n",
        "\n",
        "    # Menambahkan kolom relevansi pada dataset herbs dan urutkan berdasarkan relevansi\n",
        "    df['predicted_relevance_score'] = model.predict(X)\n",
        "\n",
        "    # Filter hanya herbal yang relevan dengan gejala yang dimasukkan\n",
        "    # Cek apakah gejala herbal cocok dengan input gejala\n",
        "    df['relevant'] = df['symptoms'].apply(lambda x: any(symptom in x for symptom in input_symptoms))\n",
        "\n",
        "    # Filter berdasarkan relevansi (hanya herbal yang memiliki gejala yang cocok)\n",
        "    df_relevant = df[df['relevant'] == True]\n",
        "\n",
        "    # Urutkan berdasarkan predicted relevance score\n",
        "    df_sorted = df_relevant.sort_values(by='predicted_relevance_score', ascending=False)\n",
        "\n",
        "    # Hapus duplikasi herbal\n",
        "    df_sorted = df_sorted.drop_duplicates(subset='herbs')\n",
        "\n",
        "    # Tampilkan top 5 rekomendasi herbal dan usage method\n",
        "    top_5 = df_sorted[['herbs', 'usage_method', 'predicted_relevance_score']].head(5)\n",
        "\n",
        "    return top_5\n",
        "\n",
        "# Coba fungsi rekomendasi herbal dengan input gejala\n",
        "symptoms_input = 'Nyeri otot'\n",
        "top_5_recommendations = recommend_herbs(symptoms_input)\n",
        "print(top_5_recommendations)"
      ],
      "metadata": {
        "id": "bqVRQcd02mNs",
        "collapsed": true,
        "colab": {
          "base_uri": "https://localhost:8080/"
        },
        "outputId": "d5b6a9c4-cc54-45b5-f4cf-079925852001"
      },
      "execution_count": 16,
      "outputs": [
        {
          "output_type": "stream",
          "name": "stdout",
          "text": [
            "\u001b[1m1/1\u001b[0m \u001b[32m━━━━━━━━━━━━━━━━━━━━\u001b[0m\u001b[37m\u001b[0m \u001b[1m0s\u001b[0m 65ms/step\n",
            "\u001b[1m32/32\u001b[0m \u001b[32m━━━━━━━━━━━━━━━━━━━━\u001b[0m\u001b[37m\u001b[0m \u001b[1m0s\u001b[0m 1ms/step \n",
            "          herbs                                       usage_method  \\\n",
            "930  Temu Hitam  Parut 1 ruas temu hitam yang sudah dicuci, cam...   \n",
            "159   Gandarusa  Untuk meredakan nyeri otot, tumbuk daun gandar...   \n",
            "900  Tapak Kuda  Rebus segenggam daun tapak kuda dalam 500 ml a...   \n",
            "833       Sereh  Siapkan 2 batang sereh, cuci bersih, kemudian ...   \n",
            "713  Pecut Kuda  Ambil 1 sendok makan akar pecut kuda yang tela...   \n",
            "\n",
            "     predicted_relevance_score  \n",
            "930                   0.897795  \n",
            "159                   0.897795  \n",
            "900                   0.848600  \n",
            "833                   0.848600  \n",
            "713                   0.848600  \n"
          ]
        }
      ]
    },
    {
      "cell_type": "markdown",
      "source": [
        "# Save Model"
      ],
      "metadata": {
        "id": "8XCsXh7jJ7d2"
      }
    },
    {
      "cell_type": "code",
      "source": [
        "# Menyimpan model yang telah dilatih\n",
        "import pickle\n",
        "\n",
        "# Simpan model\n",
        "with open('model_herb.pkl', 'wb') as file:\n",
        "    pickle.dump(model, file)\n",
        "\n",
        "# Cek apakah model tersimpan\n",
        "print(\"Model saved to model_herb.pkl\")\n"
      ],
      "metadata": {
        "colab": {
          "base_uri": "https://localhost:8080/"
        },
        "id": "JoUC9OyCNNno",
        "outputId": "41ba2132-3254-46bc-dff3-b55f65cc6ef7"
      },
      "execution_count": 17,
      "outputs": [
        {
          "output_type": "stream",
          "name": "stdout",
          "text": [
            "Model saved to model_herb.pkl\n"
          ]
        }
      ]
    },
    {
      "cell_type": "code",
      "source": [
        "# Load model\n",
        "with open('model_herb.pkl', 'rb') as file:\n",
        "    loaded_model = pickle.load(file)\n",
        "\n",
        "print(\"Model loaded successfully\")"
      ],
      "metadata": {
        "id": "3f8qNrTC3Mal",
        "colab": {
          "base_uri": "https://localhost:8080/"
        },
        "outputId": "6c64ba67-8aa8-488a-cc95-c0390c45d04d"
      },
      "execution_count": 19,
      "outputs": [
        {
          "output_type": "stream",
          "name": "stdout",
          "text": [
            "Model loaded successfully\n"
          ]
        }
      ]
    }
  ]
}